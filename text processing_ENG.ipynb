{
 "cells": [
  {
   "cell_type": "code",
   "execution_count": 166,
   "metadata": {},
   "outputs": [],
   "source": [
    "import pandas as pd\n",
    "\n",
    "\n"
   ]
  },
  {
   "cell_type": "code",
   "execution_count": 167,
   "metadata": {},
   "outputs": [
    {
     "data": {
      "text/html": [
       "<div>\n",
       "<style scoped>\n",
       "    .dataframe tbody tr th:only-of-type {\n",
       "        vertical-align: middle;\n",
       "    }\n",
       "\n",
       "    .dataframe tbody tr th {\n",
       "        vertical-align: top;\n",
       "    }\n",
       "\n",
       "    .dataframe thead th {\n",
       "        text-align: right;\n",
       "    }\n",
       "</style>\n",
       "<table border=\"1\" class=\"dataframe\">\n",
       "  <thead>\n",
       "    <tr style=\"text-align: right;\">\n",
       "      <th></th>\n",
       "      <th>TweetID</th>\n",
       "      <th>User_ID</th>\n",
       "      <th>Text</th>\n",
       "      <th>Sentiment</th>\n",
       "    </tr>\n",
       "  </thead>\n",
       "  <tbody>\n",
       "    <tr>\n",
       "      <th>0</th>\n",
       "      <td>6.473990e+17</td>\n",
       "      <td>Rionagh</td>\n",
       "      <td>I've had an IPhone for like 3 years and I've n...</td>\n",
       "      <td>negative</td>\n",
       "    </tr>\n",
       "    <tr>\n",
       "      <th>1</th>\n",
       "      <td>6.473990e+17</td>\n",
       "      <td>your highness</td>\n",
       "      <td>I dont need the new iphone but I want it :(</td>\n",
       "      <td>negative</td>\n",
       "    </tr>\n",
       "    <tr>\n",
       "      <th>2</th>\n",
       "      <td>6.473990e+17</td>\n",
       "      <td>Little Liggins</td>\n",
       "      <td>fuck the iPhone 6s cus I'm not getting one :(</td>\n",
       "      <td>negative</td>\n",
       "    </tr>\n",
       "    <tr>\n",
       "      <th>3</th>\n",
       "      <td>6.474000e+17</td>\n",
       "      <td>NaN</td>\n",
       "      <td>Hopefully will be able to get my iPhone 6s tod...</td>\n",
       "      <td>negative</td>\n",
       "    </tr>\n",
       "    <tr>\n",
       "      <th>4</th>\n",
       "      <td>6.474000e+17</td>\n",
       "      <td>Kenny Tosh</td>\n",
       "      <td>@clydesdalebank I've just bought a new iPhone ...</td>\n",
       "      <td>negative</td>\n",
       "    </tr>\n",
       "  </tbody>\n",
       "</table>\n",
       "</div>"
      ],
      "text/plain": [
       "        TweetID          User_ID  \\\n",
       "0  6.473990e+17          Rionagh   \n",
       "1  6.473990e+17    your highness   \n",
       "2  6.473990e+17  Little Liggins    \n",
       "3  6.474000e+17              NaN   \n",
       "4  6.474000e+17       Kenny Tosh   \n",
       "\n",
       "                                                Text Sentiment  \n",
       "0  I've had an IPhone for like 3 years and I've n...  negative  \n",
       "1        I dont need the new iphone but I want it :(  negative  \n",
       "2      fuck the iPhone 6s cus I'm not getting one :(  negative  \n",
       "3  Hopefully will be able to get my iPhone 6s tod...  negative  \n",
       "4  @clydesdalebank I've just bought a new iPhone ...  negative  "
      ]
     },
     "execution_count": 167,
     "metadata": {},
     "output_type": "execute_result"
    }
   ],
   "source": [
    "df=pd.read_csv('iphone6-negative.csv',encoding='latin-1')\n",
    "\n",
    "stop_words=open('stopwords.txt','r').read()\n",
    "df.head()"
   ]
  },
  {
   "cell_type": "code",
   "execution_count": 168,
   "metadata": {},
   "outputs": [],
   "source": [
    "df=df[['Text','Sentiment']]\n"
   ]
  },
  {
   "cell_type": "code",
   "execution_count": 169,
   "metadata": {},
   "outputs": [],
   "source": [
    "def denoise(text):\n",
    "    return re.sub('[^a-zA-Z]*',',text').strip()"
   ]
  },
  {
   "cell_type": "code",
   "execution_count": 170,
   "metadata": {},
   "outputs": [],
   "source": [
    "def stopwords_remove(text):\n",
    "    text=text.lower()\n",
    "    words=text.split(' ')\n",
    "    clean_words=[]\n",
    "    for word in words:\n",
    "        if word in stop_words:\n",
    "            pass \n",
    "        else:\n",
    "            clean_words.append(word)\n",
    "    text=' '.join(clean_words) \n",
    "    return text"
   ]
  },
  {
   "cell_type": "code",
   "execution_count": 171,
   "metadata": {},
   "outputs": [
    {
     "name": "stdout",
     "output_type": "stream",
     "text": [
      "0.8725099601593626\n"
     ]
    }
   ],
   "source": [
    "from sklearn.model_selection import train_test_split\n",
    "x_train,x_test,y_train,y_test=train_test_split(x,y,test_size=0.25)\n",
    "\n",
    "from sklearn.linear_model import LogisticRegression\n",
    "lr=LogisticRegression()\n",
    "lr.fit(x_train,y_train)\n",
    "print(lr.score(x_test,y_test))"
   ]
  },
  {
   "cell_type": "code",
   "execution_count": 172,
   "metadata": {},
   "outputs": [],
   "source": [
    "from nltk.stem import PorterStemmer\n",
    "ps=PorterStemmer()\n",
    "import nltk\n",
    "def stemm(text):\n",
    "    clean_text=''\n",
    "    for word in text.split():\n",
    "        clean_text +=\" \"+ ps.stem(\"word\")\n",
    "        return text "
   ]
  },
  {
   "cell_type": "code",
   "execution_count": 173,
   "metadata": {},
   "outputs": [
    {
     "name": "stdout",
     "output_type": "stream",
     "text": [
      "0.8804780876494024\n"
     ]
    }
   ],
   "source": [
    "from sklearn.model_selection import train_test_split\n",
    "x_train,x_test,y_train,y_test=train_test_split(x,y,test_size=0.25)\n",
    "\n",
    "from sklearn.linear_model import LogisticRegression\n",
    "lr=LogisticRegression()\n",
    "lr.fit(x_train,y_train)\n",
    "print(lr.score(x_test,y_test))"
   ]
  },
  {
   "cell_type": "code",
   "execution_count": 174,
   "metadata": {},
   "outputs": [],
   "source": [
    "#text='fuck the iPhone 6s cus Im not getting one :'"
   ]
  },
  {
   "cell_type": "code",
   "execution_count": 175,
   "metadata": {},
   "outputs": [],
   "source": [
    "def mod (text):\n",
    "    denoise(text)\n",
    "    stopwords_remove(text)\n",
    "    stemm(text)\n",
    "    return text "
   ]
  },
  {
   "cell_type": "code",
   "execution_count": 176,
   "metadata": {},
   "outputs": [
    {
     "data": {
      "text/plain": [
       "'fuck the iPhone 6s cus Im not getting one :'"
      ]
     },
     "execution_count": 176,
     "metadata": {},
     "output_type": "execute_result"
    }
   ],
   "source": [
    "text"
   ]
  },
  {
   "cell_type": "code",
   "execution_count": 177,
   "metadata": {},
   "outputs": [],
   "source": [
    "from sklearn.feature_extraction.text import TfidfVectorizer\n",
    "Tf_idf=TfidfVectorizer()\n",
    "clean_text=Tf_idf.fit_transform(df.Text).toarray()"
   ]
  },
  {
   "cell_type": "code",
   "execution_count": null,
   "metadata": {},
   "outputs": [],
   "source": []
  },
  {
   "cell_type": "code",
   "execution_count": 178,
   "metadata": {},
   "outputs": [
    {
     "data": {
      "text/html": [
       "<div>\n",
       "<style scoped>\n",
       "    .dataframe tbody tr th:only-of-type {\n",
       "        vertical-align: middle;\n",
       "    }\n",
       "\n",
       "    .dataframe tbody tr th {\n",
       "        vertical-align: top;\n",
       "    }\n",
       "\n",
       "    .dataframe thead th {\n",
       "        text-align: right;\n",
       "    }\n",
       "</style>\n",
       "<table border=\"1\" class=\"dataframe\">\n",
       "  <thead>\n",
       "    <tr style=\"text-align: right;\">\n",
       "      <th></th>\n",
       "      <th>Text</th>\n",
       "      <th>Sentiment</th>\n",
       "    </tr>\n",
       "  </thead>\n",
       "  <tbody>\n",
       "    <tr>\n",
       "      <th>0</th>\n",
       "      <td>I've had an IPhone for like 3 years and I've n...</td>\n",
       "      <td>negative</td>\n",
       "    </tr>\n",
       "    <tr>\n",
       "      <th>1</th>\n",
       "      <td>I dont need the new iphone but I want it :(</td>\n",
       "      <td>negative</td>\n",
       "    </tr>\n",
       "    <tr>\n",
       "      <th>2</th>\n",
       "      <td>fuck the iPhone 6s cus I'm not getting one :(</td>\n",
       "      <td>negative</td>\n",
       "    </tr>\n",
       "    <tr>\n",
       "      <th>3</th>\n",
       "      <td>Hopefully will be able to get my iPhone 6s tod...</td>\n",
       "      <td>negative</td>\n",
       "    </tr>\n",
       "    <tr>\n",
       "      <th>4</th>\n",
       "      <td>@clydesdalebank I've just bought a new iPhone ...</td>\n",
       "      <td>negative</td>\n",
       "    </tr>\n",
       "  </tbody>\n",
       "</table>\n",
       "</div>"
      ],
      "text/plain": [
       "                                                Text Sentiment\n",
       "0  I've had an IPhone for like 3 years and I've n...  negative\n",
       "1        I dont need the new iphone but I want it :(  negative\n",
       "2      fuck the iPhone 6s cus I'm not getting one :(  negative\n",
       "3  Hopefully will be able to get my iPhone 6s tod...  negative\n",
       "4  @clydesdalebank I've just bought a new iPhone ...  negative"
      ]
     },
     "execution_count": 178,
     "metadata": {},
     "output_type": "execute_result"
    }
   ],
   "source": [
    "df.head()"
   ]
  },
  {
   "cell_type": "code",
   "execution_count": null,
   "metadata": {},
   "outputs": [],
   "source": []
  },
  {
   "cell_type": "code",
   "execution_count": 179,
   "metadata": {},
   "outputs": [
    {
     "data": {
      "text/plain": [
       "0       i've iphone like 3 years i've never done :( ha...\n",
       "1                            dont need new iphone want :(\n",
       "2                   fuck iphone 6s cus i'm getting one :(\n",
       "3       hopefully able get iphone 6s today :(\\n\\nplane...\n",
       "4       @clydesdalebank i've bought new iphone can't a...\n",
       "5       new iphone today mine doesn't come next week :...\n",
       "6                     also work iphone launch t-mobile :(\n",
       "7       @o2 ended ringin break.. ordered iphone 6s com...\n",
       "8       @reviewero iphone 5 best iphone ever. makes fe...\n",
       "9       @mitsuhiko scared update ios9 don't know means...\n",
       "10      high chance iphone get home :( think missed de...\n",
       "11      @johnlegere . inventory iphone 6splus 128gb ro...\n",
       "12               need iphone back lol can't fade phone :(\n",
       "13          everyone talking iphone day, studying exam :(\n",
       "14      @3minutegames upgraded iphone 6s today, restor...\n",
       "15      @sprintnews mad didn't know direct 2 option ip...\n",
       "16      @ee wife's phone. i'm stuck o2 service next ye...\n",
       "17      grrrrrrr got new iphone won't connect work (an...\n",
       "18      wish i'd waited months got iphone 6s instead 6...\n",
       "19      @polarglobal polar beat still doesn't work pol...\n",
       "20             want iphone 6s :(\\nhttps://t.co/lv6ml03if6\n",
       "21      @katoi wasn't even iphone! :( never got order ...\n",
       "22      @flinto problems scrolling flinto prototype ip...\n",
       "23      woke really early get line iphone 6s theres on...\n",
       "24      annoyed apple haven't let set parcel drop-off ...\n",
       "25      @tim_cook please consider options (black) ipho...\n",
       "26             sick today :( however get new iphone 6s!!!\n",
       "27                            trop cool sur iphone idk :(\n",
       "28                                       iphone sticky :(\n",
       "29      apple makes feel happiest boy world, even ipho...\n",
       "                              ...                        \n",
       "972     farrah brenan : badquintana wanna get free iph...\n",
       "973     anand devlia : slumdogswag wanna get free ipho...\n",
       "974     favorite ex : _alyyshae wanna get free iphone ...\n",
       "975     raul : cosmic_raul wanna get free iphone 6? ki...\n",
       "976     crown : kingchrispy233 wanna get free iphone 6...\n",
       "977     youngnip¢note : hustletreesg wanna get free ip...\n",
       "978     rapunzel : annitude_ wanna get free iphone 6? ...\n",
       "979     kevin martel : ksmarts wanna get free iphone 6...\n",
       "980     ashley : 6040472ashley wanna get free iphone 6...\n",
       "981     lex : _shortsilmon wanna get free iphone 6? ki...\n",
       "982     big man : thomascox24 wanna get free iphone 6?...\n",
       "983     corey : corwill335 wanna get free iphone 6? ki...\n",
       "984     #topshootas : ddevonn23 wanna get free iphone ...\n",
       "985     bri : _brinababe wanna get free iphone 6? kind...\n",
       "986     fabs : fabiagledhill wanna get free iphone 6? ...\n",
       "987     markcleope : mcislegit wanna get free iphone 6...\n",
       "988     monica : monicatheshort1 wanna get free iphone...\n",
       "989     dan webb : danwrong wanna get free iphone 6? k...\n",
       "990     raphael salen : rpbeta wanna get free iphone 6...\n",
       "991     davis : davis_hope wanna get free iphone 6? ki...\n",
       "992                                  feels nice iphone :)\n",
       "993                         anyone get iphone6s plus :) ?\n",
       "994     @pomeranian99 \"international\" news september 2...\n",
       "995     end : nomnomqondiso want get free iphone 6? pl...\n",
       "996     dyamondzr4eva : jmsdway want get free iphone 6...\n",
       "997     solihin : muhdsolihin23 want get free iphone 6...\n",
       "998     andi n. : inlovewithcamd_ want get free iphone...\n",
       "999     nia : deluxechaelin want get free iphone 6? pl...\n",
       "1000    jbm . : tuesdaybleu want get free iphone 6? pl...\n",
       "1001    adam crandall : adamkcrandall want get free ip...\n",
       "Name: Text, Length: 1002, dtype: object"
      ]
     },
     "execution_count": 179,
     "metadata": {},
     "output_type": "execute_result"
    }
   ],
   "source": [
    "df.Text.apply(stopwords_remove)          ##to applay afunction on all data"
   ]
  },
  {
   "cell_type": "code",
   "execution_count": 180,
   "metadata": {},
   "outputs": [],
   "source": [
    "from sklearn.feature_extraction.text import CountVectorizer\n"
   ]
  },
  {
   "cell_type": "code",
   "execution_count": 181,
   "metadata": {},
   "outputs": [],
   "source": [
    "cv = CountVectorizer()\n"
   ]
  },
  {
   "cell_type": "code",
   "execution_count": 182,
   "metadata": {},
   "outputs": [],
   "source": [
    "x = cv.fit_transform(df.Text)"
   ]
  },
  {
   "cell_type": "code",
   "execution_count": 183,
   "metadata": {},
   "outputs": [],
   "source": [
    "from sklearn.preprocessing import LabelEncoder \n",
    "le=LabelEncoder()\n",
    "y=le.fit_transform(df.Sentiment)"
   ]
  },
  {
   "cell_type": "code",
   "execution_count": 184,
   "metadata": {},
   "outputs": [],
   "source": [
    "from sklearn.model_selection import train_test_split\n",
    "x_train,x_test,y_train,y_test=train_test_split(x,y,test_size=0.25)"
   ]
  },
  {
   "cell_type": "code",
   "execution_count": 185,
   "metadata": {},
   "outputs": [
    {
     "name": "stdout",
     "output_type": "stream",
     "text": [
      "0.900398406374502\n"
     ]
    }
   ],
   "source": [
    "from sklearn.linear_model import LogisticRegression\n",
    "lr=LogisticRegression()\n",
    "lr.fit(x_train,y_train)\n",
    "print(lr.score(x_test,y_test))"
   ]
  },
  {
   "cell_type": "code",
   "execution_count": null,
   "metadata": {},
   "outputs": [],
   "source": []
  },
  {
   "cell_type": "code",
   "execution_count": null,
   "metadata": {},
   "outputs": [],
   "source": []
  }
 ],
 "metadata": {
  "kernelspec": {
   "display_name": "Python 3",
   "language": "python",
   "name": "python3"
  },
  "language_info": {
   "codemirror_mode": {
    "name": "ipython",
    "version": 3
   },
   "file_extension": ".py",
   "mimetype": "text/x-python",
   "name": "python",
   "nbconvert_exporter": "python",
   "pygments_lexer": "ipython3",
   "version": "3.7.3"
  }
 },
 "nbformat": 4,
 "nbformat_minor": 2
}
